{
 "cells": [
  {
   "cell_type": "code",
   "execution_count": null,
   "metadata": {},
   "outputs": [],
   "source": [
    "import pyspark\n",
    "import pyspark.sql.functions\n",
    "\n",
    "data = [\n",
    "    (1, \"Alice\", 29),\n",
    "    (2, \"Bob\", 29),\n",
    "    (3, \"Alice\", 30),\n",
    "    (4, \"David\", 23),\n",
    "    (5, \"Bob\", 31)\n",
    "]\n",
    "columns = [\"id\", \"nome\", \"idade\"]\n",
    "df = spark.createDataFrame(data, columns)"
   ]
  },
  {
   "cell_type": "code",
   "execution_count": null,
   "metadata": {},
   "outputs": [],
   "source": [
    "display(df)\n",
    "tirando_duplicidade = df.dropDuplicates(['idade'])\n",
    "display(tirando_duplicidade)"
   ]
  }
 ],
 "metadata": {
  "language_info": {
   "name": "python"
  }
 },
 "nbformat": 4,
 "nbformat_minor": 2
}
