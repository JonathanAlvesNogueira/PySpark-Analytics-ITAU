{
 "cells": [
  {
   "cell_type": "code",
   "execution_count": 1,
   "metadata": {},
   "outputs": [],
   "source": [
    "from pyspark.sql import SparkSession\n",
    "from pyspark import SparkConf"
   ]
  },
  {
   "cell_type": "code",
   "execution_count": 2,
   "metadata": {},
   "outputs": [
    {
     "name": "stdout",
     "output_type": "stream",
     "text": [
      "<pyspark.sql.session.SparkSession object at 0x0000018EF8553290>\n"
     ]
    }
   ],
   "source": [
    "spark = (SparkSession.builder\n",
    "           .master(\"local[3]\")\n",
    "           .appName(\"estudando-Spark\")\n",
    "           .getOrCreate())\n",
    "\n",
    "print(spark)"
   ]
  },
  {
   "cell_type": "code",
   "execution_count": 3,
   "metadata": {},
   "outputs": [
    {
     "name": "stdout",
     "output_type": "stream",
     "text": [
      "+------+------------+----------+-------------------+---+---+-----+--------------------+--------------------+--------------------+----------------------+-----------+-----------+----------------------+----------+-----------------+--------+-------+------+-------------+--------------+------+---------+-------+--------+------------+------------+--------+---------+--------------+\n",
      "|    id|data_inversa|dia_semana|            horario| uf| br|   km|           municipio|      causa_acidente|       tipo_acidente|classificacao_acidente|   fase_dia|sentido_via|condicao_metereologica|tipo_pista|      tracado_via|uso_solo|pessoas|mortos|feridos_leves|feridos_graves|ilesos|ignorados|feridos|veiculos|    latitude|   longitude|regional|delegacia|           uop|\n",
      "+------+------------+----------+-------------------+---+---+-----+--------------------+--------------------+--------------------+----------------------+-----------+-----------+----------------------+----------+-----------------+--------+-------+------+-------------+--------------+------+---------+-------+--------+------------+------------+--------+---------+--------------+\n",
      "|405151|  01/01/2022|    s�bado|2024-01-25 01:35:00| PI|316|  415|         MARCOLANDIA|Ingest�o de �lcoo...|    Colis�o traseira|   Com V�timas Feridas|Plena Noite|Decrescente|               Nublado|   Simples|             Reta|     Sim|      2|     0|            1|             0|     1|        0|      1|       2| -7,43280012|-40,68261908| SPRF-PI| DEL04-PI|UOP03-DEL04-PI|\n",
      "|405158|  01/01/2022|    s�bado|2024-01-25 02:40:00| PR|116|   33|CAMPINA GRANDE DO...|Ingest�o de �lcoo...|          Tombamento|    Com V�timas Fatais|  Pleno dia|Decrescente|               Nublado|     Dupla|            Curva|     N�o|      2|     1|            1|             0|     0|        0|      1|       1|  -25,114403| -48,8467554| SPRF-PR| DEL01-PR|UOP02-DEL01-PR|\n",
      "|405172|  01/01/2022|    s�bado|2024-01-25 05:22:00| MS|163|  393|NOVA ALVORADA DO SUL|Condutor deixou d...|    Colis�o traseira|   Com V�timas Feridas|  Amanhecer|Decrescente|             C�u Claro|   Simples|    N�o Informado|     N�o|      2|     0|            1|             0|     1|        0|      1|       2|  -21,228445|  -54,456296| SPRF-MS| DEL02-MS|UOP01-DEL02-MS|\n",
      "|405203|  01/01/2022|    s�bado|2024-01-25 07:00:00| RJ|101|  457|      ANGRA DOS REIS|Rea��o tardia ou ...|     Colis�o frontal|   Com V�timas Feridas|  Pleno dia|Decrescente|                 Chuva|   Simples|            Curva|     Sim|      2|     0|            0|             1|     1|        0|      1|       2|-23,03149804|-44,17715297| SPRF-RJ| DEL03-RJ|UOP02-DEL03-RJ|\n",
      "|405207|  01/01/2022|    s�bado|2024-01-25 09:00:00| MG| 40|508,3|  RIBEIRAO DAS NEVES|Acumulo de �gua s...|Sa�da de leito ca...|           Sem V�timas|  Pleno dia|Decrescente|                 Chuva|     Dupla|             Reta|     Sim|      3|     0|            0|             0|     3|        0|      0|       1|-19,76061249| -44,1347544| SPRF-MG| DEL02-MG|UOP01-DEL02-MG|\n",
      "|405213|  01/01/2022|    s�bado|2024-01-25 09:00:00| PB|116|  8,7|CACHOEIRA DOS INDIOS|Mal s�bito do con...|  Colis�o com objeto|           Sem V�timas|  Pleno dia|  Crescente|             C�u Claro|   Simples|             Reta|     N�o|      2|     0|            0|             0|     2|        0|      0|       1|   -6,964668|  -38,727608| SPRF-CE| DEL05-CE|UOP03-DEL05-CE|\n",
      "|405221|  01/01/2022|    s�bado|2024-01-25 10:20:00| MG| 40|452,2|        CAETANOPOLIS|               Chuva|Colis�o lateral m...|   Com V�timas Feridas|  Pleno dia|  Crescente|                 Chuva|     Dupla|Desvio Tempor�rio|     N�o|      3|     0|            1|             0|     2|        0|      1|       2|-19,33382121|-44,36107939| SPRF-MG| DEL02-MG|UOP01-DEL02-MG|\n",
      "|405234|  01/01/2022|    s�bado|2024-01-25 08:05:00| SC|163| 80,1|          GUARACIABA|Aus�ncia de rea��...|     Colis�o frontal|    Com V�timas Fatais|  Pleno dia|  Crescente|             C�u Claro|   Simples|    N�o Informado|     N�o|      4|     1|            1|             1|     0|        1|      2|       2|-26,65043908| -53,5185463| SPRF-SC| DEL07-SC|UOP03-DEL07-SC|\n",
      "|405247|  01/01/2022|    s�bado|2024-01-25 12:20:00| SC|101|139,7|  BALNEARIO CAMBORIU|Condutor deixou d...|    Colis�o traseira|   Com V�timas Feridas|  Pleno dia|  Crescente|             C�u Claro|   Simples|    N�o Informado|     N�o|      4|     0|            1|             0|     3|        0|      1|       3|-27,02982303|-48,60115006| SPRF-SC| DEL04-SC|UOP03-DEL04-SC|\n",
      "|405254|  01/01/2022|    s�bado|2024-01-25 14:15:00| CE|116|415,4|           IPAUMIRIM|Manobra de mudan�...|     Colis�o frontal|    Com V�timas Fatais|  Pleno dia|Decrescente|               Nublado|   Simples|             Reta|     N�o|      2|     1|            0|             0|     1|        0|      0|       2|   -6,741404|  -38,792746| SPRF-CE| DEL05-CE|UOP01-DEL05-CE|\n",
      "|405256|  01/01/2022|    s�bado|2024-01-25 09:50:00| MT| 70|    0|  PONTAL DO ARAGUAIA|Rea��o tardia ou ...|       Engavetamento|   Com V�timas Feridas|  Pleno dia|  Crescente|                 Chuva|   Simples|    N�o Informado|     Sim|      6|     0|            2|             0|     4|        0|      2|       5|    -15,9106|    -52,2614| SPRF-MT| DEL07-MT|UOP01-DEL07-MT|\n",
      "|405271|  01/01/2022|    s�bado|2024-01-25 14:00:00| PE|423|  177|         AGUAS BELAS|Condutor deixou d...|    Colis�o traseira|   Com V�timas Feridas|  Pleno dia|  Crescente|             C�u Claro|   Simples|             Reta|     N�o|      5|     0|            1|             0|     3|        1|      1|       3| -9,13016345|-37,11460498| SPRF-AL| DEL03-AL|UOP02-DEL03-AL|\n",
      "|405273|  01/01/2022|    s�bado|2024-01-25 15:25:00| MT|364|  446|       VARZEA GRANDE|Ingest�o de �lcoo...|Sa�da de leito ca...|   Com V�timas Feridas|  Pleno dia|Decrescente|             C�u Claro|   Simples|             Reta|     N�o|      1|     0|            1|             0|     0|        0|      1|       1|-15,61443692|-56,20471037| SPRF-MT| DEL01-MT|UOP02-DEL01-MT|\n",
      "|405278|  01/01/2022|    s�bado|2024-01-25 17:00:00| BA|101|   96|          ALAGOINHAS|Aus�ncia de rea��...|Colis�o lateral s...|           Sem V�timas|  Pleno dia|Decrescente|             C�u Claro|   Simples|            Curva|     N�o|      2|     0|            0|             0|     1|        1|      0|       2|-12,11006784|-38,38454512| SPRF-BA| DEL01-BA|UOP04-DEL01-BA|\n",
      "|405298|  01/01/2022|    s�bado|2024-01-25 18:45:00| MG|365|  101|            JEQUITAI|  Pista Escorregadia|  Colis�o com objeto|   Com V�timas Feridas|  Anoitecer|Decrescente|        Garoa/Chuvisco|   Simples|            Curva|     N�o|      1|     0|            0|             1|     0|        0|      1|       1|-17,22428188|-44,53423396| SPRF-MG| DEL12-MG|UOP01-DEL12-MG|\n",
      "|405300|  01/01/2022|    s�bado|2024-01-25 18:30:00| GO| 60|  291|             ACREUNA|Aus�ncia de rea��...|Sa�da de leito ca...|           Sem V�timas|  Anoitecer|Decrescente|             C�u Claro|     Dupla|             Reta|     N�o|      1|     0|            0|             0|     0|        1|      0|       1|    -17,3057|    -50,2783| SPRF-GO| DEL04-GO|UOP01-DEL04-GO|\n",
      "|405309|  01/01/2022|    s�bado|2024-01-25 21:00:00| SP|116|  147| SAO JOSE DOS CAMPOS|Manobra de mudan�...| Colis�o transversal|   Com V�timas Feridas|Plena Noite|  Crescente|               Nublado|  M�ltipla|             Reta|     Sim|      3|     0|            1|             0|     2|        0|      1|       2|-23,19542994|-45,87176303| SPRF-SP| DEL02-SP|UOP01-DEL02-SP|\n",
      "|405338|  02/01/2022|   domingo|2024-01-25 00:00:00| BA|101|  177|SAO GONCALO DOS C...|Aus�ncia de sinal...|     Colis�o frontal|   Com V�timas Feridas|Plena Noite|Decrescente|             C�u Claro|   Simples|             Reta|     N�o|      3|     0|            1|             0|     1|        1|      1|       3|  -12,519078|  -38,970829| SPRF-BA| DEL01-BA|UOP03-DEL01-BA|\n",
      "|405368|  02/01/2022|   domingo|2024-01-25 08:46:00| MT|364|  350|SANTO ANTONIO DO ...|   Condutor Dormindo|Sa�da de leito ca...|   Com V�timas Feridas|  Pleno dia|  Crescente|               Nublado|     Dupla|            Curva|     N�o|      1|     0|            0|             1|     0|        0|      1|       1|-15,79356276|-55,58572076| SPRF-MT| DEL05-MT|UOP02-DEL05-MT|\n",
      "|405382|  02/01/2022|   domingo|2024-01-25 10:40:00| MG| 40|737,8|       SANTOS DUMONT|Rea��o tardia ou ...|     Colis�o frontal|    Com V�timas Fatais|  Pleno dia|  Crescente|        Garoa/Chuvisco|   Simples|            Curva|     N�o|     15|     1|            9|             1|     4|        0|     10|       5|-21,39150494|-43,56782913| SPRF-MG| DEL05-MG|UOP01-DEL05-MG|\n",
      "+------+------------+----------+-------------------+---+---+-----+--------------------+--------------------+--------------------+----------------------+-----------+-----------+----------------------+----------+-----------------+--------+-------+------+-------------+--------------+------+---------+-------+--------+------------+------------+--------+---------+--------------+\n",
      "only showing top 20 rows\n",
      "\n"
     ]
    }
   ],
   "source": [
    "df = (spark\n",
    "    .read\n",
    "    .format(\"csv\")\n",
    "    .option(\"header\", \"true\")\n",
    "    .option(\"inferSchema\", \"true\")\n",
    "    .option(\"delimiter\", \";\")\n",
    "    .load(r\"C:\\Users\\joth1\\Documents\\projetos\\Forky-ArthurBarbero-Projeto\\jony-arquivos\\dados_acidentes_prf_2022.csv\"))\n",
    "\n",
    "df.show()"
   ]
  }
 ],
 "metadata": {
  "kernelspec": {
   "display_name": "Python 3",
   "language": "python",
   "name": "python3"
  },
  "language_info": {
   "codemirror_mode": {
    "name": "ipython",
    "version": 3
   },
   "file_extension": ".py",
   "mimetype": "text/x-python",
   "name": "python",
   "nbconvert_exporter": "python",
   "pygments_lexer": "ipython3",
   "version": "3.12.0"
  }
 },
 "nbformat": 4,
 "nbformat_minor": 2
}
