{
 "cells": [
  {
   "cell_type": "code",
   "execution_count": 3,
   "id": "9b897ef4-5bef-4630-a416-d4d6478c9bd7",
   "metadata": {},
   "outputs": [
    {
     "data": {
      "text/plain": [
       "'sucesso'"
      ]
     },
     "metadata": {},
     "output_type": "display_data"
    }
   ],
   "source": [
    "from pyspark.sql import SparkSession\n",
    "from pyspark.sql.types import StructType, StructField, IntegerType, StringType\n",
    "\n",
    "spark = SparkSession.builder \\\n",
    "    .master('local') \\\n",
    "    .appName('Teste_spark') \\\n",
    "    .getOrCreate()\n",
    "display('sucesso')"
   ]
  },
  {
   "cell_type": "code",
   "execution_count": 33,
   "id": "6c1f9c0a-b10c-45eb-92d3-fb84351bdba5",
   "metadata": {},
   "outputs": [
    {
     "name": "stdout",
     "output_type": "stream",
     "text": [
      "+------+-----+-------+-------------+------+------+---+----+----+---------+-------------+----------+\n",
      "|season|place|acronym|         team|points|played|won|draw|loss|goals_for|goals_against|goals_diff|\n",
      "+------+-----+-------+-------------+------+------+---+----+----+---------+-------------+----------+\n",
      "|  2003|    1|    CRU|     Cruzeiro|   100|    46| 31|   7|   8|      102|           47|        55|\n",
      "|  2003|    2|    SAN|       Santos|    87|    46| 25|  12|   9|       93|           60|        33|\n",
      "|  2003|    3|    SAO|     SaoPaulo|    78|    46| 22|  12|  12|       81|           67|        14|\n",
      "|  2003|    4|    SCA|   SaoCaetano|    74|    46| 19|  14|  13|       53|           37|        16|\n",
      "|  2003|    5|    CFC|     Coritiba|    73|    46| 21|  10|  15|       67|           58|         9|\n",
      "|  2003|    6|    CAM|  Atletico-MG|    72|    46| 19|  15|  12|       76|           62|        14|\n",
      "|  2003|    7|    INT|Internacional|    72|    46| 20|  10|  16|       59|           57|         2|\n",
      "|  2003|    8|    FLA|     Flamengo|    66|    46| 18|  12|  16|       66|           73|        -7|\n",
      "|  2003|    9|    GOI|        Goias|    65|    46| 18|  11|  17|       78|           63|        15|\n",
      "|  2003|   10|    PAR|       Parana|    65|    46| 18|  11|  17|       85|           75|        10|\n",
      "|  2003|   11|    FIG|  Figueirense|    65|    46| 17|  14|  15|       62|           54|         8|\n",
      "|  2003|   12|    CAP| Athletico-PR|    61|    46| 17|  10|  19|       67|           72|        -5|\n",
      "|  2003|   13|    GUA|      Guarani|    61|    46| 17|  10|  19|       64|           72|        -8|\n",
      "|  2003|   14|    CRI|     Criciuma|    60|    46| 17|   9|  20|       57|           69|       -12|\n",
      "|  2003|   15|    COR|  Corinthians|    59|    46| 15|  12|  19|       61|           63|        -2|\n",
      "|  2003|   16|    VIT|      Vitoria|    56|    46| 15|  11|  20|       50|           64|       -14|\n",
      "|  2003|   17|    VAS|        Vasco|    54|    46| 13|  15|  18|       57|           69|       -12|\n",
      "|  2003|   18|    JUV|    Juventude|    53|    46| 12|  14|  20|       55|           70|       -15|\n",
      "|  2003|   19|    FLU|   Fluminense|    52|    46| 13|  11|  22|       52|           77|       -25|\n",
      "|  2003|   20|    PON|   PontePreta|    50|    46| 11|  18|  17|       63|           73|       -10|\n",
      "+------+-----+-------+-------------+------+------+---+----+----+---------+-------------+----------+\n",
      "only showing top 20 rows\n",
      "\n"
     ]
    },
    {
     "data": {
      "text/plain": [
       "'sucesso'"
      ]
     },
     "metadata": {},
     "output_type": "display_data"
    },
    {
     "name": "stdout",
     "output_type": "stream",
     "text": [
      "+------+-----+-------+-------------+------+------+---+----+----+---------+-------------+----------+--------+\n",
      "|season|place|acronym|         team|points|played|won|draw|loss|goals_for|goals_against|goals_diff|novoluna|\n",
      "+------+-----+-------+-------------+------+------+---+----+----+---------+-------------+----------+--------+\n",
      "|  2003|    1|    CRU|     Cruzeiro|   100|    46| 31|   7|   8|      102|           47|        55|     nao|\n",
      "|  2003|    2|    SAN|       Santos|    87|    46| 25|  12|   9|       93|           60|        33|     sim|\n",
      "|  2003|    3|    SAO|     SaoPaulo|    78|    46| 22|  12|  12|       81|           67|        14|     sim|\n",
      "|  2003|    4|    SCA|   SaoCaetano|    74|    46| 19|  14|  13|       53|           37|        16|     sim|\n",
      "|  2003|    5|    CFC|     Coritiba|    73|    46| 21|  10|  15|       67|           58|         9|     sim|\n",
      "|  2003|    6|    CAM|  Atletico-MG|    72|    46| 19|  15|  12|       76|           62|        14|     sim|\n",
      "|  2003|    7|    INT|Internacional|    72|    46| 20|  10|  16|       59|           57|         2|     sim|\n",
      "|  2003|    8|    FLA|     Flamengo|    66|    46| 18|  12|  16|       66|           73|        -7|     sim|\n",
      "|  2003|    9|    GOI|        Goias|    65|    46| 18|  11|  17|       78|           63|        15|     sim|\n",
      "|  2003|   10|    PAR|       Parana|    65|    46| 18|  11|  17|       85|           75|        10|     sim|\n",
      "|  2003|   11|    FIG|  Figueirense|    65|    46| 17|  14|  15|       62|           54|         8|     sim|\n",
      "|  2003|   12|    CAP| Athletico-PR|    61|    46| 17|  10|  19|       67|           72|        -5|     sim|\n",
      "|  2003|   13|    GUA|      Guarani|    61|    46| 17|  10|  19|       64|           72|        -8|     sim|\n",
      "|  2003|   14|    CRI|     Criciuma|    60|    46| 17|   9|  20|       57|           69|       -12|     sim|\n",
      "|  2003|   15|    COR|  Corinthians|    59|    46| 15|  12|  19|       61|           63|        -2|     sim|\n",
      "|  2003|   16|    VIT|      Vitoria|    56|    46| 15|  11|  20|       50|           64|       -14|     sim|\n",
      "|  2003|   17|    VAS|        Vasco|    54|    46| 13|  15|  18|       57|           69|       -12|     sim|\n",
      "|  2003|   18|    JUV|    Juventude|    53|    46| 12|  14|  20|       55|           70|       -15|     sim|\n",
      "|  2003|   19|    FLU|   Fluminense|    52|    46| 13|  11|  22|       52|           77|       -25|     sim|\n",
      "|  2003|   20|    PON|   PontePreta|    50|    46| 11|  18|  17|       63|           73|       -10|     sim|\n",
      "+------+-----+-------+-------------+------+------+---+----+----+---------+-------------+----------+--------+\n",
      "only showing top 20 rows\n",
      "\n"
     ]
    }
   ],
   "source": [
    "#Creating DataFrame on a CSV file\n",
    "from pyspark.sql.functions import when, col\n",
    "\n",
    "df = spark.read.load('D:/donwloads/brasileirao.csv', header=True, format='csv', sep=',', inferSchema=True)\n",
    "df.show()\n",
    "display('sucesso')\n",
    "\n",
    "\n",
    "                                                                        \n",
    "df2 = df.withColumn(\n",
    "    'novoluna',\n",
    "     when( (col('points') < 100), 'sim' )\n",
    "    .otherwise('nao')\n",
    ")\n",
    "\n",
    "df2.show()"
   ]
  },
  {
   "cell_type": "code",
   "execution_count": null,
   "id": "8a59d193",
   "metadata": {},
   "outputs": [],
   "source": []
  }
 ],
 "metadata": {
  "kernelspec": {
   "display_name": "Python 3 (ipykernel)",
   "language": "python",
   "name": "python3"
  },
  "language_info": {
   "codemirror_mode": {
    "name": "ipython",
    "version": 3
   },
   "file_extension": ".py",
   "mimetype": "text/x-python",
   "name": "python",
   "nbconvert_exporter": "python",
   "pygments_lexer": "ipython3",
   "version": "3.12.0"
  }
 },
 "nbformat": 4,
 "nbformat_minor": 5
}
