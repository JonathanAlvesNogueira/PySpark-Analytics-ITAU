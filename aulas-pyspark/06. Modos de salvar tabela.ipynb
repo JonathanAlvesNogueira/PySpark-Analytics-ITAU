{
 "cells": [
  {
   "cell_type": "code",
   "execution_count": null,
   "metadata": {},
   "outputs": [],
   "source": [
    "schema =  \"valor INT, nomeProduto STRING\"\n",
    "dados = [ (5, 'Caneta'), (1, 'Borracha'), (4, 'Caneta')  ]\n",
    "\n",
    "df3 = spark.createDataFrame(dados, schema)\n",
    "display(df3)"
   ]
  },
  {
   "cell_type": "code",
   "execution_count": null,
   "metadata": {},
   "outputs": [],
   "source": [
    "# Salva a tabela como parquet\n",
    "df3.write.format('parquet').saveAsTable('nomeProdutos')\n",
    "\n",
    "#  Sobrescreve os registros dessa tabela\n",
    "df3.write.mode('overwrite').saveAsTable('nomeProdutos')\n",
    "\n",
    "# Empilha as informações desse dataframe com as que ja tem na tabela\n",
    "df3.write.mode('append').saveAsTable('nomeProdutos')"
   ]
  }
 ],
 "metadata": {
  "language_info": {
   "name": "python"
  }
 },
 "nbformat": 4,
 "nbformat_minor": 2
}
