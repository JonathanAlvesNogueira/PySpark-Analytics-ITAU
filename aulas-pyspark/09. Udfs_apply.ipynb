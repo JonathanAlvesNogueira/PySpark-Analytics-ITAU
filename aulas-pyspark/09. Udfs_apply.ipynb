{
 "cells": [
  {
   "cell_type": "markdown",
   "metadata": {},
   "source": [
    "### Esse comando UDF é semelhante ao comando apply do pandas, ele itera sobre as linhas e colunas "
   ]
  },
  {
   "cell_type": "code",
   "execution_count": null,
   "metadata": {},
   "outputs": [],
   "source": [
    "from pyspark.sql.functions import udf\n",
    "\n",
    "\n",
    "dados = [\n",
    "    (1, 'Jonathan', 'D1', '1000')\n",
    "    ,(2, 'Jonas', 'A1', '2000')\n",
    "]\n",
    "\n",
    "colunas = [\"ID\", 'NOME', 'RATING', 'VALOR']\n",
    "\n",
    "df = spark.createDataFrame(dados, colunas)\n",
    "\n",
    "\n",
    "\n",
    "from pyspark.sql.functions import col\n",
    "df = df.withColumn('valor', col('VALOR').cast('int') )\n",
    "display(df)\n",
    "\n",
    "def calculaAprovacao(rating):\n",
    "    if (rating == 'A1'):\n",
    "        return 1\n",
    "    else:\n",
    "        return 0\n",
    "udf_preparado = udf(calculaAprovacao,IntegerType())\n",
    "\n",
    "df = df.withColumn('fl_aprovado', udf_preparado( col('RATING') ) )\n",
    "display(df)"
   ]
  },
  {
   "cell_type": "code",
   "execution_count": null,
   "metadata": {},
   "outputs": [],
   "source": []
  }
 ],
 "metadata": {
  "kernelspec": {
   "display_name": "Python 3",
   "language": "python",
   "name": "python3"
  },
  "language_info": {
   "codemirror_mode": {
    "name": "ipython",
    "version": 3
   },
   "file_extension": ".py",
   "mimetype": "text/x-python",
   "name": "python",
   "nbconvert_exporter": "python",
   "pygments_lexer": "ipython3",
   "version": "3.12.0"
  }
 },
 "nbformat": 4,
 "nbformat_minor": 2
}
