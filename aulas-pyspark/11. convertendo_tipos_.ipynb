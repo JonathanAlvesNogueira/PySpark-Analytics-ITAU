{
 "cells": [
  {
   "cell_type": "markdown",
   "metadata": {},
   "source": [
    "## CRIA UMA BASE FICTICIA "
   ]
  },
  {
   "cell_type": "code",
   "execution_count": 8,
   "metadata": {},
   "outputs": [
    {
     "name": "stdout",
     "output_type": "stream",
     "text": [
      "root\n",
      " |-- order_id: string (nullable = true)\n",
      " |-- customer_id: string (nullable = true)\n",
      " |-- total_amount: string (nullable = true)\n",
      " |-- order_date: string (nullable = true)\n",
      "\n"
     ]
    }
   ],
   "source": [
    "from pyspark.sql import SparkSession\n",
    "from pyspark.sql.functions import col\n",
    "\n",
    "# Iniciar sessão Spark\n",
    "spark = SparkSession.builder.appName(\"Example\").getOrCreate()\n",
    "\n",
    "# Criar DataFrame de exemplo\n",
    "data = [(\"1\", \"C001\", \"100.5\", \"2021-01-01\"),\n",
    "        (\"2\", \"C002\", \"200.75\", \"2021-01-02\")]\n",
    "df = spark.createDataFrame(data, [\"order_id\", \"customer_id\", \"total_amount\", \"order_date\"])\n",
    "\n",
    "df.printSchema()"
   ]
  },
  {
   "cell_type": "markdown",
   "metadata": {},
   "source": [
    "## MÉTODO PRÉ-PRONTO PARA CONVERTER DADOS EM PYSPARK"
   ]
  },
  {
   "cell_type": "code",
   "execution_count": 9,
   "metadata": {},
   "outputs": [
    {
     "name": "stdout",
     "output_type": "stream",
     "text": [
      "root\n",
      " |-- order_id: integer (nullable = true)\n",
      " |-- customer_id: string (nullable = true)\n",
      " |-- total_amount: double (nullable = true)\n",
      " |-- order_date: string (nullable = true)\n",
      "\n"
     ]
    }
   ],
   "source": [
    "# Dicionário de mapeamento de tipos\n",
    "type_mappings = {\n",
    "    \"order_id\": \"int\",\n",
    "    \"customer_id\": \"string\",\n",
    "    \"total_amount\": \"double\",\n",
    "    \"order_date\": \"string\"\n",
    "}\n",
    "\n",
    "# Função para aplicar a conversão de tipos\n",
    "def apply_type_mappings(df, type_mappings):\n",
    "    for column, new_type in type_mappings.items():\n",
    "        df = df.withColumn(column, col(column).cast(new_type))\n",
    "    return df\n",
    "\n",
    "# Aplicar a conversão de tipos\n",
    "df_converted = apply_type_mappings(df, type_mappings)\n",
    "\n",
    "# Verificar o esquema do DataFrame convertido\n",
    "df_converted.printSchema()"
   ]
  }
 ],
 "metadata": {
  "kernelspec": {
   "display_name": "Python 3",
   "language": "python",
   "name": "python3"
  },
  "language_info": {
   "codemirror_mode": {
    "name": "ipython",
    "version": 3
   },
   "file_extension": ".py",
   "mimetype": "text/x-python",
   "name": "python",
   "nbconvert_exporter": "python",
   "pygments_lexer": "ipython3",
   "version": "3.12.0"
  }
 },
 "nbformat": 4,
 "nbformat_minor": 2
}
