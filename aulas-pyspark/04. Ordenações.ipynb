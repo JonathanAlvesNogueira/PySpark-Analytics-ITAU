{
 "cells": [
  {
   "cell_type": "code",
   "execution_count": null,
   "metadata": {},
   "outputs": [],
   "source": [
    "schema =  \"valor INT, nomeProduto STRING\"\n",
    "dados = [ (5, 'Caneta'), (1, 'Borracha'), (4, 'Caneta')  ]\n",
    "\n",
    "df3 = spark.createDataFrame(dados, schema)"
   ]
  },
  {
   "cell_type": "code",
   "execution_count": 2,
   "metadata": {},
   "outputs": [],
   "source": [
    "df3_ordenado = df3.orderBy(func.col('Valor').desc())\n",
    "display(df3_ordenado)\n",
    "\n",
    "# Ordena de forma Ascendente\n",
    "df_ordenado_ascendente = df3.orderBy('valor')\n",
    "display(df_ordenado_ascendente)\n",
    "\n",
    "# Ordena por duas colunas\n",
    "df_ordenado_desc = df3.orderBy( 'nomeProduto',  func.col('valor').desc() )\n",
    "display(df_ordenado_desc)"
   ]
  },
  {
   "cell_type": "code",
   "execution_count": null,
   "metadata": {},
   "outputs": [],
   "source": [
    "# Cria um dataframe Filtrando a partir de uma coluna\n",
    "df_filtrado = df3.filter( func.col('valor') <= 4 ) \n",
    "display(df_filtrado)"
   ]
  }
 ],
 "metadata": {
  "kernelspec": {
   "display_name": "Python 3",
   "language": "python",
   "name": "python3"
  },
  "language_info": {
   "codemirror_mode": {
    "name": "ipython",
    "version": 3
   },
   "file_extension": ".py",
   "mimetype": "text/x-python",
   "name": "python",
   "nbconvert_exporter": "python",
   "pygments_lexer": "ipython3",
   "version": "3.12.0"
  }
 },
 "nbformat": 4,
 "nbformat_minor": 2
}
