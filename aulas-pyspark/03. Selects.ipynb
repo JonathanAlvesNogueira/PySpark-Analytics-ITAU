{
 "cells": [
  {
   "cell_type": "code",
   "execution_count": null,
   "metadata": {},
   "outputs": [],
   "source": [
    "#  Utiliza Projeção assim como no SQL para tratar visualizar os dados \n",
    "df3.select([\"nomeProduto\", \"valor\"]).show()"
   ]
  },
  {
   "cell_type": "code",
   "execution_count": null,
   "metadata": {},
   "outputs": [],
   "source": [
    "# Faz um select, mostrando duas colunas e criando uma terceira com expressão\n",
    "from pyspark.sql.functions import expr\n",
    "df3.select(['nomeProduto', 'valor', expr('Valor * 1000')]).show()"
   ]
  },
  {
   "cell_type": "code",
   "execution_count": null,
   "metadata": {},
   "outputs": [],
   "source": [
    "from pyspark.sql.types import *\n",
    "\n",
    "# Importa todo tipo de dados, aqui em especificio estou importando um CSV\n",
    "df = spark.read.load('/FileStore/tables/dados_acidentes_prf_2023.csv', header=True, inferSchema=True, format='csv', sep=';')\n",
    "\n",
    "display(df)\n",
    "\n",
    "# Faz a leitura do tipo do Schema, semelhante ao Dtypes do Pandas\n",
    "display(df.schema)"
   ]
  },
  {
   "cell_type": "code",
   "execution_count": null,
   "metadata": {},
   "outputs": [],
   "source": [
    "from pyspark.sql import functions as func\n",
    "\n",
    "# Faz a projeção dos dados, trazendo apenas os dados que o valor seja >= 2 e nomeProduto == 'Caneta'\n",
    "df4 = df3.select(['valor', 'nomeProduto', expr(\"valor * 1000\") ]) \\\n",
    "    .where(   (func.col('valor') >= 2)  & (func.col('nomeProduto') == 'Caneta')    )\n",
    "\n",
    "display(df4)"
   ]
  },
  {
   "cell_type": "code",
   "execution_count": 2,
   "metadata": {},
   "outputs": [],
   "source": [
    "# Mostra apenas a primeira Linha do dataframe\n",
    "resul = df3.take(1)\n",
    "display(resul)\n",
    "\n",
    "\n",
    "tamanho = df3.count()"
   ]
  },
  {
   "cell_type": "code",
   "execution_count": null,
   "metadata": {},
   "outputs": [],
   "source": [
    "# Transforma o dataframe em objetos linha a linha. De modo geral em uma lista\n",
    "df3.collect()"
   ]
  }
 ],
 "metadata": {
  "kernelspec": {
   "display_name": "Python 3",
   "language": "python",
   "name": "python3"
  },
  "language_info": {
   "codemirror_mode": {
    "name": "ipython",
    "version": 3
   },
   "file_extension": ".py",
   "mimetype": "text/x-python",
   "name": "python",
   "nbconvert_exporter": "python",
   "pygments_lexer": "ipython3",
   "version": "3.12.0"
  }
 },
 "nbformat": 4,
 "nbformat_minor": 2
}
