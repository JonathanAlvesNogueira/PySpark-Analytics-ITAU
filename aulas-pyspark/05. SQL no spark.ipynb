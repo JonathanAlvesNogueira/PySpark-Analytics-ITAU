{
 "cells": [
  {
   "cell_type": "code",
   "execution_count": null,
   "metadata": {},
   "outputs": [],
   "source": [
    "# PROJETINHO \n",
    "import pyspark.sql\n",
    "\n",
    "# Verifica Banco de Dados, nesse primeiro momento está vazio\n",
    "spark.sql('show databases').show()\n",
    "# Cria um BD, \n",
    "spark.sql('create database teste')\n",
    "# Mostra o bd inserido\n",
    "spark.sql('show databases').show()"
   ]
  },
  {
   "cell_type": "code",
   "execution_count": null,
   "metadata": {},
   "outputs": [],
   "source": [
    "# Aplicando o USE DO SELECT\n",
    "spark.sql('use teste')\n",
    "\n",
    "# Criando o df a partir de um arquivo\n",
    "df = spark.read.load('/FileStore/tables/dados_acidentes_prf_2023.csv', format='csv', sep=';', header=True, inferSchema=True)\n",
    "display(df)\n",
    "\n",
    "# Salvando o dataframe em formato de tabela e depois usando o SELECT para projetar\n",
    "df.write.saveAsTable('teste')\n",
    "tst = spark.sql('select * from teste')\n",
    "display(tst)"
   ]
  }
 ],
 "metadata": {
  "language_info": {
   "name": "python"
  }
 },
 "nbformat": 4,
 "nbformat_minor": 2
}
