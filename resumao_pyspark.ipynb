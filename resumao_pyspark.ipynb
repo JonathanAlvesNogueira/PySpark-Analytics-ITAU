{
 "cells": [
  {
   "cell_type": "code",
   "execution_count": 2,
   "metadata": {},
   "outputs": [],
   "source": [
    "import pyspark\n",
    "from pyspark.sql import SparkSession\n",
    "from pyspark.sql.functions import col, when\n",
    "# from pyspark.sql.types import types"
   ]
  },
  {
   "cell_type": "code",
   "execution_count": 3,
   "metadata": {},
   "outputs": [
    {
     "name": "stdout",
     "output_type": "stream",
     "text": [
      "+---------+---+----+------------------+----------+----------+--------------------+------+------+\n",
      "|     Team|  #|Pos.| FIFA Popular Name|Birth Date|Shirt Name|                Club|Height|Weight|\n",
      "+---------+---+----+------------------+----------+----------+--------------------+------+------+\n",
      "|Argentina|  3|  DF|TAGLIAFICO Nicolas|31.08.1992|TAGLIAFICO|      AFC Ajax (NED)|   169|    65|\n",
      "|Argentina| 22|  MF|    PAVON Cristian|21.01.1996|     PAVÓN|CA Boca Juniors (...|   169|    65|\n",
      "|Argentina| 15|  MF|    LANZINI Manuel|15.02.1993|   LANZINI|West Ham United F...|   167|    66|\n",
      "|Argentina| 18|  DF|    SALVIO Eduardo|13.07.1990|    SALVIO|    SL Benfica (POR)|   167|    69|\n",
      "|Argentina| 10|  FW|      MESSI Lionel|24.06.1987|     MESSI|  FC Barcelona (ESP)|   170|    72|\n",
      "|Argentina|  4|  DF|  ANSALDI Cristian|20.09.1986|   ANSALDI|     Torino FC (ITA)|   181|    73|\n",
      "|Argentina|  5|  MF|      BIGLIA Lucas|30.01.1986|    BIGLIA|      AC Milan (ITA)|   175|    73|\n",
      "|Argentina|  7|  MF|       BANEGA Ever|29.06.1988|    BANEGA|    Sevilla FC (ESP)|   175|    73|\n",
      "|Argentina| 14|  DF| MASCHERANO Javier|08.06.1984|MASCHERANO|Hebei China Fortu...|   174|    73|\n",
      "|Argentina| 21|  FW|      DYBALA Paulo|15.11.1993|    DYBALA|   Juventus FC (ITA)|   177|    73|\n",
      "|Argentina| 19|  FW|     AGUERO Sergio|02.06.1988|    AGÜERO|Manchester City F...|   172|    74|\n",
      "|Argentina|  9|  FW|   HIGUAIN Gonzalo|10.12.1987|   HIGUAÍN|   Juventus FC (ITA)|   184|    75|\n",
      "|Argentina| 11|  MF|    DI MARIA Angel|14.02.1988|  DI MARÍA|Paris Saint-Germa...|   178|    75|\n",
      "|Argentina| 20|  MF|  LO CELSO Giovani|09.04.1996|  LO CELSO|Paris Saint-Germa...|   177|    75|\n",
      "|Argentina| 13|  MF|  MEZA Maximiliano|15.12.1992|      MEZA|CA Independiente ...|   180|    76|\n",
      "|Argentina|  8|  DF|      ACUNA Marcos|28.10.1991|     ACUÑA|   Sporting CP (POR)|   172|    77|\n",
      "|Argentina| 23|  GK|CABALLERO Wilfredo|28.09.1981| CABALLERO|    Chelsea FC (ENG)|   186|    80|\n",
      "|Argentina|  2|  DF|   MERCADO Gabriel|18.03.1987|   MERCADO|    Sevilla FC (ESP)|   181|    81|\n",
      "|Argentina| 17|  DF|  OTAMENDI Nicolas|12.02.1988|  OTAMENDI|Manchester City F...|   181|    81|\n",
      "|Argentina| 16|  DF|       ROJO Marcos|20.03.1990|      ROJO|Manchester United...|   189|    82|\n",
      "+---------+---+----+------------------+----------+----------+--------------------+------+------+\n",
      "only showing top 20 rows\n",
      "\n"
     ]
    }
   ],
   "source": [
    "spark = SparkSession.builder.appName('TesteDataframe').getOrCreate()\n",
    "df = spark.read.load('D:/donwloads/wc2018-players.csv', header=True, inferSchema=True, sep=',', format='csv')\n",
    "df.show()"
   ]
  },
  {
   "cell_type": "markdown",
   "metadata": {},
   "source": [
    "### Pega todas as colunas do Dataframe, e coloca elas em uma posição visivel para eu alterar posteriormente"
   ]
  },
  {
   "cell_type": "code",
   "execution_count": 4,
   "metadata": {},
   "outputs": [
    {
     "data": {
      "text/plain": [
       "{'Team': 'Team',\n",
       " '#': '#',\n",
       " 'Pos.': 'Pos.',\n",
       " 'FIFA Popular Name': 'FIFA Popular Name',\n",
       " 'Birth Date': 'Birth Date',\n",
       " 'Shirt Name': 'Shirt Name',\n",
       " 'Club': 'Club',\n",
       " 'Height': 'Height',\n",
       " 'Weight': 'Weight'}"
      ]
     },
     "metadata": {},
     "output_type": "display_data"
    }
   ],
   "source": [
    "colunas = {\n",
    "    col:col \n",
    "    for col in df.columns\n",
    "}\n",
    "display(colunas)"
   ]
  },
  {
   "cell_type": "markdown",
   "metadata": {},
   "source": [
    "### Trocando o nomes das colunas com dois metodos"
   ]
  },
  {
   "cell_type": "code",
   "execution_count": 5,
   "metadata": {},
   "outputs": [
    {
     "name": "stdout",
     "output_type": "stream",
     "text": [
      "+---------+----------+-------+------------------+-------------+------------+--------------------+--------------+----+\n",
      "|     TIME|ID_JOGADOR|POSICAO|         NOME_FIFA|DT_NASCIMENTO|NOME_JOGADOR|               CLUBE|ALTURA_JOGADOR|PESO|\n",
      "+---------+----------+-------+------------------+-------------+------------+--------------------+--------------+----+\n",
      "|Argentina|         3|     DF|TAGLIAFICO Nicolas|   31.08.1992|  TAGLIAFICO|      AFC Ajax (NED)|           169|  65|\n",
      "|Argentina|        22|     MF|    PAVON Cristian|   21.01.1996|       PAVÓN|CA Boca Juniors (...|           169|  65|\n",
      "|Argentina|        15|     MF|    LANZINI Manuel|   15.02.1993|     LANZINI|West Ham United F...|           167|  66|\n",
      "|Argentina|        18|     DF|    SALVIO Eduardo|   13.07.1990|      SALVIO|    SL Benfica (POR)|           167|  69|\n",
      "|Argentina|        10|     FW|      MESSI Lionel|   24.06.1987|       MESSI|  FC Barcelona (ESP)|           170|  72|\n",
      "|Argentina|         4|     DF|  ANSALDI Cristian|   20.09.1986|     ANSALDI|     Torino FC (ITA)|           181|  73|\n",
      "|Argentina|         5|     MF|      BIGLIA Lucas|   30.01.1986|      BIGLIA|      AC Milan (ITA)|           175|  73|\n",
      "|Argentina|         7|     MF|       BANEGA Ever|   29.06.1988|      BANEGA|    Sevilla FC (ESP)|           175|  73|\n",
      "|Argentina|        14|     DF| MASCHERANO Javier|   08.06.1984|  MASCHERANO|Hebei China Fortu...|           174|  73|\n",
      "|Argentina|        21|     FW|      DYBALA Paulo|   15.11.1993|      DYBALA|   Juventus FC (ITA)|           177|  73|\n",
      "|Argentina|        19|     FW|     AGUERO Sergio|   02.06.1988|      AGÜERO|Manchester City F...|           172|  74|\n",
      "|Argentina|         9|     FW|   HIGUAIN Gonzalo|   10.12.1987|     HIGUAÍN|   Juventus FC (ITA)|           184|  75|\n",
      "|Argentina|        11|     MF|    DI MARIA Angel|   14.02.1988|    DI MARÍA|Paris Saint-Germa...|           178|  75|\n",
      "|Argentina|        20|     MF|  LO CELSO Giovani|   09.04.1996|    LO CELSO|Paris Saint-Germa...|           177|  75|\n",
      "|Argentina|        13|     MF|  MEZA Maximiliano|   15.12.1992|        MEZA|CA Independiente ...|           180|  76|\n",
      "|Argentina|         8|     DF|      ACUNA Marcos|   28.10.1991|       ACUÑA|   Sporting CP (POR)|           172|  77|\n",
      "|Argentina|        23|     GK|CABALLERO Wilfredo|   28.09.1981|   CABALLERO|    Chelsea FC (ENG)|           186|  80|\n",
      "|Argentina|         2|     DF|   MERCADO Gabriel|   18.03.1987|     MERCADO|    Sevilla FC (ESP)|           181|  81|\n",
      "|Argentina|        17|     DF|  OTAMENDI Nicolas|   12.02.1988|    OTAMENDI|Manchester City F...|           181|  81|\n",
      "|Argentina|        16|     DF|       ROJO Marcos|   20.03.1990|        ROJO|Manchester United...|           189|  82|\n",
      "+---------+----------+-------+------------------+-------------+------------+--------------------+--------------+----+\n",
      "only showing top 20 rows\n",
      "\n"
     ]
    }
   ],
   "source": [
    "# Primeiro método - Muito mais inteligente, copio e colo as colunas acima e depois só substituo uma vez\n",
    "colunas = {\n",
    "    'pos.': 'POSICAO',\n",
    "    'FIFA Popular Name': 'NOME_FIFA',\n",
    "    'Shirt Name': 'NOME_JOGADOR',\n",
    "    'CLUB': 'CLUBE',\n",
    "    'Birth Date': 'DT_NASCIMENTO',\n",
    "    'Height': 'ALTURA_JOGADOR',\n",
    "    'Weight': 'PESO',\n",
    "    'Team': 'TIME',\n",
    "    '#': 'ID_JOGADOR'\n",
    "}\n",
    "\n",
    "for nome_antigo, novo_nome in colunas.items():\n",
    "    df = df.withColumnRenamed(nome_antigo, novo_nome)\n",
    "\n",
    "\n",
    "# Segundo método - Feito Totalmente Manualmente. \n",
    "df = df.withColumnRenamed('pos.','POSICAO')\n",
    "df = df.withColumnRenamed('FIFA Popular Name', 'NOME_FIFA')\n",
    "df = df.withColumnRenamed('Shirt Name', 'NOME_JOGADOR')\n",
    "df = df.withColumnRenamed('CLUB', 'CLUBE')\n",
    "df = df.withColumnRenamed('Birth Date', 'DT_NASCIMENTO')\n",
    "df = df.withColumnRenamed('Height', 'ALTURA_JOGADOR')\n",
    "df = df.withColumnRenamed('Weight', 'PESO')\n",
    "df = df.withColumnRenamed('Team', 'TIME')\n",
    "df = df.withColumnRenamed('#', 'ID_JOGADOR')\n",
    "df.show()"
   ]
  },
  {
   "cell_type": "markdown",
   "metadata": {},
   "source": [
    "### Selecionando Dados, como se fosse consultas do SQL"
   ]
  },
  {
   "cell_type": "code",
   "execution_count": 8,
   "metadata": {},
   "outputs": [
    {
     "name": "stdout",
     "output_type": "stream",
     "text": [
      "+---------+------------+--------------------+\n",
      "|     Pais|NOME_JOGADOR|               CLUBE|\n",
      "+---------+------------+--------------------+\n",
      "|Argentina|  TAGLIAFICO|      AFC Ajax (NED)|\n",
      "|Argentina|       PAVÓN|CA Boca Juniors (...|\n",
      "|Argentina|     LANZINI|West Ham United F...|\n",
      "|Argentina|      SALVIO|    SL Benfica (POR)|\n",
      "|Argentina|       MESSI|  FC Barcelona (ESP)|\n",
      "|Argentina|     ANSALDI|     Torino FC (ITA)|\n",
      "|Argentina|      BIGLIA|      AC Milan (ITA)|\n",
      "|Argentina|      BANEGA|    Sevilla FC (ESP)|\n",
      "|Argentina|  MASCHERANO|Hebei China Fortu...|\n",
      "|Argentina|      DYBALA|   Juventus FC (ITA)|\n",
      "|Argentina|      AGÜERO|Manchester City F...|\n",
      "|Argentina|     HIGUAÍN|   Juventus FC (ITA)|\n",
      "|Argentina|    DI MARÍA|Paris Saint-Germa...|\n",
      "|Argentina|    LO CELSO|Paris Saint-Germa...|\n",
      "|Argentina|        MEZA|CA Independiente ...|\n",
      "|Argentina|       ACUÑA|   Sporting CP (POR)|\n",
      "|Argentina|   CABALLERO|    Chelsea FC (ENG)|\n",
      "|Argentina|     MERCADO|    Sevilla FC (ESP)|\n",
      "|Argentina|    OTAMENDI|Manchester City F...|\n",
      "|Argentina|        ROJO|Manchester United...|\n",
      "+---------+------------+--------------------+\n",
      "only showing top 20 rows\n",
      "\n"
     ]
    }
   ],
   "source": [
    "# Selecionando colunas\n",
    "# from pyspark.sql.functions import select\n",
    "df_select = df.select( \n",
    "    col('TIME').alias('Pais')\n",
    "    ,col('NOME_JOGADOR') \n",
    "    ,col('CLUBE')\n",
    ")\n",
    "df_select.show()"
   ]
  },
  {
   "cell_type": "markdown",
   "metadata": {},
   "source": [
    "### Filtrar DataFrame para mostrar os pontos onde não tenha argentina"
   ]
  },
  {
   "cell_type": "code",
   "execution_count": 20,
   "metadata": {},
   "outputs": [
    {
     "name": "stdout",
     "output_type": "stream",
     "text": [
      "+---------+----------+-------+------------------+-------------+------------+--------------------+--------------+----+\n",
      "|     TIME|ID_JOGADOR|POSICAO|         NOME_FIFA|DT_NASCIMENTO|NOME_JOGADOR|               CLUBE|ALTURA_JOGADOR|PESO|\n",
      "+---------+----------+-------+------------------+-------------+------------+--------------------+--------------+----+\n",
      "|Australia|        16|     DF|       BEHICH Aziz|   16.12.1990|      BEHICH|     Bursaspor (TUR)|           170|  63|\n",
      "|Australia|        10|     FW|      KRUSE Robbie|   05.10.1988|       KRUSE|    VfL Bochum (GER)|           180|  66|\n",
      "|Australia|        19|     DF|     RISDON Joshua|   27.07.1992|      RISDON|WS Wanderers FC (...|           169|  70|\n",
      "|Australia|         3|     DF|    MEREDITH James|   05.04.1988|    MEREDITH|   Millwall FC (ENG)|           179|  71|\n",
      "|Australia|        13|     MF|        MOOY Aaron|   15.09.1990|        MOOY|Huddersfield Town...|           173|  72|\n",
      "|Australia|        14|     FW|    MacLAREN Jamie|   29.07.1993|    MACLAREN|  Hibernian FC (SCO)|           178|  72|\n",
      "|Australia|        21|     FW|PETRATOS Dimitrios|   10.11.1992|    PETRATOS|Newcastle United ...|           176|  72|\n",
      "|Australia|        17|     FW|     ARZANI Daniel|   04.01.1999|      ARZANI|Melbourne City FC...|           171|  73|\n",
      "|Australia|         4|     FW|        CAHILL Tim|   06.12.1979|      CAHILL|   Millwall FC (ENG)|           180|  76|\n",
      "|Australia|         8|     MF|    LUONGO Massimo|   25.09.1992|      LUONGO|Queens Park Range...|           176|  76|\n",
      "|Australia|        20|     DF|   SAINSBURY Trent|   05.01.1992|   SAINSBURY|Grasshopper Club ...|           183|  76|\n",
      "|Australia|        22|     MF|    IRVINE Jackson|   07.03.1993|      IRVINE|  Hull City FC (ENG)|           180|  77|\n",
      "|Australia|         5|     DF|     MILLIGAN Mark|   04.08.1985|    MILLIGAN|    Al Ahli SC (KSA)|           178|  78|\n",
      "|Australia|        15|     MF|      JEDINAK Mile|   03.08.1984|     JEDINAK|Aston Villa FC (ENG)|           188|  78|\n",
      "|Australia|         9|     FW|        JURIC Tomi|   22.07.1991|       JURIC|     FC Luzern (SUI)|           190|  80|\n",
      "|Australia|         1|     GK|       RYAN Mathew|   08.04.1992|        RYAN|Brighton & Hove A...|           184|  82|\n",
      "|Australia|         6|     DF|    JURMAN Matthew|   08.12.1989|      JURMAN|Suwon Samsung Blu...|           190|  83|\n",
      "|Australia|         7|     FW|     LECKIE Mathew|   04.02.1991|      LECKIE|    Hertha BSC (GER)|           181|  84|\n",
      "|Australia|         2|     DF|     DEGENEK Milos|   28.04.1994|     DEGENEK|Yokohama F-Marino...|           187|  85|\n",
      "|Australia|        11|     FW|    NABBOUT Andrew|   17.12.1992|     NABBOUT|    Urawa Reds (JPN)|           178|  85|\n",
      "+---------+----------+-------+------------------+-------------+------------+--------------------+--------------+----+\n",
      "only showing top 20 rows\n",
      "\n"
     ]
    }
   ],
   "source": [
    "# porque o comando abaixo não funciona ?\n",
    "df_filtrado = df.filter( col('TIME') != \"Argentina\").show()"
   ]
  },
  {
   "cell_type": "markdown",
   "metadata": {},
   "source": [
    "### FILTRANDO DATAFRAME COM CONDIÇÕES AND e OR"
   ]
  },
  {
   "cell_type": "code",
   "execution_count": 31,
   "metadata": {},
   "outputs": [
    {
     "data": {
      "text/plain": [
       "'DF CONDIÇÃO AND'"
      ]
     },
     "metadata": {},
     "output_type": "display_data"
    },
    {
     "name": "stdout",
     "output_type": "stream",
     "text": [
      "+------+----------+-------+-------------+-------------+------------+--------------------+--------------+----+\n",
      "|  TIME|ID_JOGADOR|POSICAO|    NOME_FIFA|DT_NASCIMENTO|NOME_JOGADOR|               CLUBE|ALTURA_JOGADOR|PESO|\n",
      "+------+----------+-------+-------------+-------------+------------+--------------------+--------------+----+\n",
      "|Brazil|         6|     DF|  FILIPE LUIS|   09.08.1985| FILIPE LUIS|Atletico Madrid (...|           182|  73|\n",
      "|Brazil|        13|     DF|   MARQUINHOS|   14.05.1994|  MARQUINHOS|Paris Saint-Germa...|           183|  75|\n",
      "|Brazil|         3|     DF|      MIRANDA|   07.09.1984|     MIRANDA|FC Internazionale...|           186|  78|\n",
      "|Brazil|        14|     DF|       DANILO|   15.07.1991|      DANILO|Manchester City F...|           184|  78|\n",
      "|Brazil|         2|     DF| THIAGO SILVA|   22.09.1984|    T. SILVA|Paris Saint-Germa...|           183|  79|\n",
      "|Brazil|         4|     DF|PEDRO GEROMEL|   21.09.1985|     GEROMEL|   Grêmio FBPA (BRA)|           190|  84|\n",
      "+------+----------+-------+-------------+-------------+------------+--------------------+--------------+----+\n",
      "\n"
     ]
    },
    {
     "data": {
      "text/plain": [
       "'DF CONDIÇÃO OR'"
      ]
     },
     "metadata": {},
     "output_type": "display_data"
    },
    {
     "name": "stdout",
     "output_type": "stream",
     "text": [
      "+------+----------+-------+------------+-------------+------------+--------------------+--------------+----+\n",
      "|  TIME|ID_JOGADOR|POSICAO|   NOME_FIFA|DT_NASCIMENTO|NOME_JOGADOR|               CLUBE|ALTURA_JOGADOR|PESO|\n",
      "+------+----------+-------+------------+-------------+------------+--------------------+--------------+----+\n",
      "|Brazil|        13|     DF|  MARQUINHOS|   14.05.1994|  MARQUINHOS|Paris Saint-Germa...|           183|  75|\n",
      "|Brazil|         3|     DF|     MIRANDA|   07.09.1984|     MIRANDA|FC Internazionale...|           186|  78|\n",
      "|Brazil|         2|     DF|THIAGO SILVA|   22.09.1984|    T. SILVA|Paris Saint-Germa...|           183|  79|\n",
      "+------+----------+-------+------------+-------------+------------+--------------------+--------------+----+\n",
      "\n"
     ]
    }
   ],
   "source": [
    "display('DF CONDIÇÃO AND')\n",
    "# FILTRANDO USANDO A CONDIÇÃO AND\n",
    "df_filtrado_e = df.filter( \n",
    "    (col('TIME') == 'Brazil') \n",
    "    & (col('POSICAO') == 'DF')\n",
    "    & (col('ALTURA_JOGADOR') >= '180')\n",
    ").show()\n",
    "\n",
    "display('DF CONDIÇÃO OR')\n",
    "# FILTRANDO USANDO A CONDIÇÃO OR\n",
    "df_filtrado_e = df.filter( \n",
    "    (col('TIME') == 'Brazil') \n",
    "    & (col('POSICAO') == 'DF')\n",
    "    & ( (col('ALTURA_JOGADOR') == '186') | (col('ALTURA_JOGADOR') == '183'))\n",
    ").show()\n"
   ]
  },
  {
   "cell_type": "code",
   "execution_count": 59,
   "metadata": {},
   "outputs": [
    {
     "name": "stdout",
     "output_type": "stream",
     "text": [
      "+---------+----------+-------+------------------+-------------+------------+--------------------+--------------+----+---------------------+\n",
      "|     TIME|ID_JOGADOR|POSICAO|         NOME_FIFA|DT_NASCIMENTO|NOME_JOGADOR|               CLUBE|ALTURA_JOGADOR|PESO|tres_primeiras_letras|\n",
      "+---------+----------+-------+------------------+-------------+------------+--------------------+--------------+----+---------------------+\n",
      "|Argentina|         3|     DF|TAGLIAFICO Nicolas|   31.08.1992|  TAGLIAFICO|      AFC Ajax (NED)|           169|  65|                  Arg|\n",
      "|Argentina|        22|     MF|    PAVON Cristian|   21.01.1996|       PAVÓN|CA Boca Juniors (...|           169|  65|                  Arg|\n",
      "|Argentina|        15|     MF|    LANZINI Manuel|   15.02.1993|     LANZINI|West Ham United F...|           167|  66|                  Arg|\n",
      "|Argentina|        18|     DF|    SALVIO Eduardo|   13.07.1990|      SALVIO|    SL Benfica (POR)|           167|  69|                  Arg|\n",
      "|Argentina|        10|     FW|      MESSI Lionel|   24.06.1987|       MESSI|  FC Barcelona (ESP)|           170|  72|                  Arg|\n",
      "|Argentina|         4|     DF|  ANSALDI Cristian|   20.09.1986|     ANSALDI|     Torino FC (ITA)|           181|  73|                  Arg|\n",
      "|Argentina|         5|     MF|      BIGLIA Lucas|   30.01.1986|      BIGLIA|      AC Milan (ITA)|           175|  73|                  Arg|\n",
      "|Argentina|         7|     MF|       BANEGA Ever|   29.06.1988|      BANEGA|    Sevilla FC (ESP)|           175|  73|                  Arg|\n",
      "|Argentina|        14|     DF| MASCHERANO Javier|   08.06.1984|  MASCHERANO|Hebei China Fortu...|           174|  73|                  Arg|\n",
      "|Argentina|        21|     FW|      DYBALA Paulo|   15.11.1993|      DYBALA|   Juventus FC (ITA)|           177|  73|                  Arg|\n",
      "|Argentina|        19|     FW|     AGUERO Sergio|   02.06.1988|      AGÜERO|Manchester City F...|           172|  74|                  Arg|\n",
      "|Argentina|         9|     FW|   HIGUAIN Gonzalo|   10.12.1987|     HIGUAÍN|   Juventus FC (ITA)|           184|  75|                  Arg|\n",
      "|Argentina|        11|     MF|    DI MARIA Angel|   14.02.1988|    DI MARÍA|Paris Saint-Germa...|           178|  75|                  Arg|\n",
      "|Argentina|        20|     MF|  LO CELSO Giovani|   09.04.1996|    LO CELSO|Paris Saint-Germa...|           177|  75|                  Arg|\n",
      "|Argentina|        13|     MF|  MEZA Maximiliano|   15.12.1992|        MEZA|CA Independiente ...|           180|  76|                  Arg|\n",
      "|Argentina|         8|     DF|      ACUNA Marcos|   28.10.1991|       ACUÑA|   Sporting CP (POR)|           172|  77|                  Arg|\n",
      "|Argentina|        23|     GK|CABALLERO Wilfredo|   28.09.1981|   CABALLERO|    Chelsea FC (ENG)|           186|  80|                  Arg|\n",
      "|Argentina|         2|     DF|   MERCADO Gabriel|   18.03.1987|     MERCADO|    Sevilla FC (ESP)|           181|  81|                  Arg|\n",
      "|Argentina|        17|     DF|  OTAMENDI Nicolas|   12.02.1988|    OTAMENDI|Manchester City F...|           181|  81|                  Arg|\n",
      "|Argentina|        16|     DF|       ROJO Marcos|   20.03.1990|        ROJO|Manchester United...|           189|  82|                  Arg|\n",
      "+---------+----------+-------+------------------+-------------+------------+--------------------+--------------+----+---------------------+\n",
      "only showing top 20 rows\n",
      "\n"
     ]
    }
   ],
   "source": [
    "from pyspark.sql.functions import *\n",
    "\n",
    "# PEGA AS PRIMEIRAS TRÊS LETRAS DA SELEÇÃO\n",
    "df_nova_coluna = df.withColumn('tres_primeiras_letras', substring(col('TIME'), 0, 3)).show()"
   ]
  },
  {
   "cell_type": "code",
   "execution_count": 60,
   "metadata": {},
   "outputs": [
    {
     "name": "stdout",
     "output_type": "stream",
     "text": [
      "+---------+----------+-------+------------------+-------------+------------+--------------------+--------------+----+----+\n",
      "|     TIME|ID_JOGADOR|POSICAO|         NOME_FIFA|DT_NASCIMENTO|NOME_JOGADOR|               CLUBE|ALTURA_JOGADOR|PESO| ANO|\n",
      "+---------+----------+-------+------------------+-------------+------------+--------------------+--------------+----+----+\n",
      "|Argentina|         3|     DF|TAGLIAFICO Nicolas|   31.08.1992|  TAGLIAFICO|      AFC Ajax (NED)|           169|  65|1992|\n",
      "|Argentina|        22|     MF|    PAVON Cristian|   21.01.1996|       PAVÓN|CA Boca Juniors (...|           169|  65|1996|\n",
      "|Argentina|        15|     MF|    LANZINI Manuel|   15.02.1993|     LANZINI|West Ham United F...|           167|  66|1993|\n",
      "|Argentina|        18|     DF|    SALVIO Eduardo|   13.07.1990|      SALVIO|    SL Benfica (POR)|           167|  69|1990|\n",
      "|Argentina|        10|     FW|      MESSI Lionel|   24.06.1987|       MESSI|  FC Barcelona (ESP)|           170|  72|1987|\n",
      "|Argentina|         4|     DF|  ANSALDI Cristian|   20.09.1986|     ANSALDI|     Torino FC (ITA)|           181|  73|1986|\n",
      "|Argentina|         5|     MF|      BIGLIA Lucas|   30.01.1986|      BIGLIA|      AC Milan (ITA)|           175|  73|1986|\n",
      "|Argentina|         7|     MF|       BANEGA Ever|   29.06.1988|      BANEGA|    Sevilla FC (ESP)|           175|  73|1988|\n",
      "|Argentina|        14|     DF| MASCHERANO Javier|   08.06.1984|  MASCHERANO|Hebei China Fortu...|           174|  73|1984|\n",
      "|Argentina|        21|     FW|      DYBALA Paulo|   15.11.1993|      DYBALA|   Juventus FC (ITA)|           177|  73|1993|\n",
      "|Argentina|        19|     FW|     AGUERO Sergio|   02.06.1988|      AGÜERO|Manchester City F...|           172|  74|1988|\n",
      "|Argentina|         9|     FW|   HIGUAIN Gonzalo|   10.12.1987|     HIGUAÍN|   Juventus FC (ITA)|           184|  75|1987|\n",
      "|Argentina|        11|     MF|    DI MARIA Angel|   14.02.1988|    DI MARÍA|Paris Saint-Germa...|           178|  75|1988|\n",
      "|Argentina|        20|     MF|  LO CELSO Giovani|   09.04.1996|    LO CELSO|Paris Saint-Germa...|           177|  75|1996|\n",
      "|Argentina|        13|     MF|  MEZA Maximiliano|   15.12.1992|        MEZA|CA Independiente ...|           180|  76|1992|\n",
      "|Argentina|         8|     DF|      ACUNA Marcos|   28.10.1991|       ACUÑA|   Sporting CP (POR)|           172|  77|1991|\n",
      "|Argentina|        23|     GK|CABALLERO Wilfredo|   28.09.1981|   CABALLERO|    Chelsea FC (ENG)|           186|  80|1981|\n",
      "|Argentina|         2|     DF|   MERCADO Gabriel|   18.03.1987|     MERCADO|    Sevilla FC (ESP)|           181|  81|1987|\n",
      "|Argentina|        17|     DF|  OTAMENDI Nicolas|   12.02.1988|    OTAMENDI|Manchester City F...|           181|  81|1988|\n",
      "|Argentina|        16|     DF|       ROJO Marcos|   20.03.1990|        ROJO|Manchester United...|           189|  82|1990|\n",
      "+---------+----------+-------+------------------+-------------+------------+--------------------+--------------+----+----+\n",
      "only showing top 20 rows\n",
      "\n"
     ]
    }
   ],
   "source": [
    "# PEGA O ANO DE NASCIMENTO PARTINDO DAS 4 ULTIMAS LETRAS\n",
    "df_nova_coluna2 = df.withColumn('ANO', substring('DT_NASCIMENTO', -4, 4)).show()"
   ]
  },
  {
   "cell_type": "markdown",
   "metadata": {},
   "source": [
    "### Conversão de tipos de variaveis. "
   ]
  },
  {
   "cell_type": "code",
   "execution_count": 80,
   "metadata": {},
   "outputs": [
    {
     "name": "stdout",
     "output_type": "stream",
     "text": [
      "'TIME': StringType(),\n",
      "'ID_JOGADOR': IntegerType(),\n",
      "'POSICAO': StringType(),\n",
      "'NOME_FIFA': StringType(),\n",
      "'DT_NASCIMENTO': StringType(),\n",
      "'NOME_JOGADOR': StringType(),\n",
      "'CLUBE': StringType(),\n",
      "'ALTURA_JOGADOR': IntegerType(),\n",
      "'PESO': IntegerType(),\n"
     ]
    }
   ],
   "source": [
    "schema = df.schema\n",
    "tipos_dados_colunas = {col.name: col.dataType for col in schema}\n",
    "\n",
    "# Imprimir os tipos de colunas\n",
    "for nome_coluna, tipo_coluna in tipos_dados_colunas.items():\n",
    "    print(f\"'{nome_coluna}': {tipo_coluna},\")"
   ]
  },
  {
   "cell_type": "code",
   "execution_count": 83,
   "metadata": {},
   "outputs": [
    {
     "name": "stdout",
     "output_type": "stream",
     "text": [
      "root\n",
      " |-- TIME: string (nullable = true)\n",
      " |-- ID_JOGADOR: string (nullable = true)\n",
      " |-- POSICAO: string (nullable = true)\n",
      " |-- NOME_FIFA: string (nullable = true)\n",
      " |-- DT_NASCIMENTO: string (nullable = true)\n",
      " |-- NOME_JOGADOR: string (nullable = true)\n",
      " |-- CLUBE: string (nullable = true)\n",
      " |-- ALTURA_JOGADOR: string (nullable = true)\n",
      " |-- PESO: string (nullable = true)\n",
      "\n"
     ]
    }
   ],
   "source": [
    "# Primeira Forma: Copio e colo as variáveis e seus respectivos jeitos para automatizar\n",
    "# e visualizar todas que precisarei trocar os tipos\n",
    "from pyspark.sql.types import * \n",
    "\n",
    "colt = {\n",
    "'TIME': StringType(),\n",
    "'ID_JOGADOR': StringType(),\n",
    "'POSICAO': StringType(),\n",
    "'NOME_FIFA': StringType(),\n",
    "'DT_NASCIMENTO': StringType(),\n",
    "'NOME_JOGADOR': StringType(),\n",
    "'CLUBE': StringType(),\n",
    "'ALTURA_JOGADOR': IntegerType(),\n",
    "'PESO': IntegerType(),\n",
    "}\n",
    "\n",
    "# Aplicar a conversão de tipos\n",
    "for chave, valor in colt.items():\n",
    "    df = df.withColumn(chave, col(chave).cast(valor))\n",
    "\n",
    "\n",
    "\n",
    "# SEGUNDA FORMA: Troco os tipos manualmente\n",
    "df = df.withColumn('ALTURA_JOGADOR', col('ALTURA_JOGADOR').cast(StringType()))\n",
    "df = df.withColumn('PESO', col('PESO').cast(StringType()))\n",
    "df.printSchema()"
   ]
  }
 ],
 "metadata": {
  "kernelspec": {
   "display_name": "Python 3",
   "language": "python",
   "name": "python3"
  },
  "language_info": {
   "codemirror_mode": {
    "name": "ipython",
    "version": 3
   },
   "file_extension": ".py",
   "mimetype": "text/x-python",
   "name": "python",
   "nbconvert_exporter": "python",
   "pygments_lexer": "ipython3",
   "version": "3.12.0"
  }
 },
 "nbformat": 4,
 "nbformat_minor": 2
}
