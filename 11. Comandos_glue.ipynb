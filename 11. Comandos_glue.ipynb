{
 "cells": [
  {
   "cell_type": "code",
   "execution_count": null,
   "metadata": {},
   "outputs": [],
   "source": [
    "import sys\n",
    "from awsglue.transforms import *\n",
    "from awsglue.utils import getResolvedOptions\n",
    "from pyspark.context import SparkContext\n",
    "from awsglue.context import GlueContext\n",
    "from awsglue.job import Job"
   ]
  },
  {
   "cell_type": "code",
   "execution_count": null,
   "metadata": {},
   "outputs": [],
   "source": [
    "# Comandos de configuração Glue-Spark\n",
    "args = getResolvedOptions(sys.argv, ['JOB_NAME'])\n",
    "sc = SparkContext()\n",
    "glueContext = GlueContext(sc)\n",
    "spark = glueContext.spark_session\n",
    "job = Job(glueContext)\n",
    "job.init(args['JOB_NAME'], args)"
   ]
  },
  {
   "cell_type": "code",
   "execution_count": null,
   "metadata": {},
   "outputs": [],
   "source": [
    "# Carrega uma base de um catalogo de dados\n",
    "base1 = glueContext.create_dynamic_frame.from_catalog(database = \"my_database\", table_name = \"my_table\", transformation_ctx = \"datasource0\")\n",
    "\n",
    "# Carrega a base de um S3\n",
    "base2 = glueContext.create_dynamic_frame.from_options(\"s3\", {'paths': [\"s3://my-bucket/my-file\"]}, format=\"json\", transformation_ctx = \"datasource0\")"
   ]
  },
  {
   "cell_type": "code",
   "execution_count": null,
   "metadata": {},
   "outputs": [],
   "source": [
    "# Salva a base no catalogo de dados\n",
    "glueContext.write_dynamic_frame.from_catalog(frame = transformed_frame, database = \"my_database\", table_name = \"my_table\", transformation_ctx = \"datasink\")\n",
    "\n",
    "# Salva a base no S3\n",
    "glueContext.write_dynamic_frame.from_options(frame = transformed_frame, connection_type = \"s3\", connection_options = {\"path\": \"s3://my-bucket/output/\"}, format = \"json\", transformation_ctx = \"datasink\")"
   ]
  },
  {
   "cell_type": "code",
   "execution_count": null,
   "metadata": {},
   "outputs": [],
   "source": [
    "# Finaliza o Glue-code\n",
    "job.commit()"
   ]
  }
 ],
 "metadata": {
  "language_info": {
   "name": "python"
  }
 },
 "nbformat": 4,
 "nbformat_minor": 2
}
