{
 "cells": [
  {
   "cell_type": "code",
   "execution_count": null,
   "metadata": {},
   "outputs": [],
   "source": [
    "from pyspark.sql import SparkSession\n",
    "\n",
    "# Crie uma sessão do Spark\n",
    "spark = SparkSession.builder.appName(\"Comandos SQL em PySpark\").getOrCreate()\n",
    "\n",
    "# Crie um DataFrame com os dados\n",
    "data = [(\"A1\", 2000), (\"A2\", 3000), (\"A3\", 4000)]\n",
    "df = spark.createDataFrame(data, [\"rating\", \"valor\"])\n",
    "\n",
    "# Insira os dados na tabela\n",
    "df.write.format(\"parquet\").mode(\"overwrite\").saveAsTable(\"minha_tabela\")\n",
    "\n",
    "\n",
    "\n",
    "\n",
    "# Execute uma consulta SQL\n",
    "resultado = spark.sql(\"SELECT * FROM minha_tabela WHERE rating = 'A1'\")\n",
    "resultado.show()\n",
    "\n",
    "# Exclua as linhas da tabela\n",
    "spark.sql(\"DELETE FROM minha_tabela WHERE valor < 3000\")\n",
    "\n",
    "\n",
    "# Insira os dados na tabela no Athena\n",
    "spark.sql(\"INSERT INTO athena_db.athena_table (rating, valor) VALUES ('A1', 2000), ('A2', 3000), ('A3', 4000)\")\n",
    "\n",
    "\n",
    "# Execute uma consulta SQL\n",
    "resultado = spark.sql(\"SELECT * FROM minha_tabela\")\n",
    "resultado.show()\n"
   ]
  }
 ],
 "metadata": {
  "language_info": {
   "name": "python"
  }
 },
 "nbformat": 4,
 "nbformat_minor": 2
}
