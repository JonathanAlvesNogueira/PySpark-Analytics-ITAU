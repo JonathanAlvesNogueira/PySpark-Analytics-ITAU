{
 "cells": [
  {
   "cell_type": "markdown",
   "metadata": {
    "vscode": {
     "languageId": "bat"
    }
   },
   "source": [
    "#### Esse código tem o foco de pensar em como construir rotinas dentro do Glue"
   ]
  },
  {
   "cell_type": "code",
   "execution_count": null,
   "metadata": {},
   "outputs": [],
   "source": [
    "# Configurações\n",
    "import sys\n",
    "import pandas as pd\n",
    "from awsglue.transforms import *\n",
    "from awsglue.utils import getResolvedOptions\n",
    "from pyspark.context import SparkContext\n",
    "from awsglue.context import GlueContext\n",
    "from awsglue.job import Job\n",
    "import awswrangler as wr\n",
    "from datetime import datetime, date, timedelta\n",
    "import boto3\n",
    "\n",
    "# Inicializar o SparkContext e o GlueContext\n",
    "sc = SparkContext.getOrCreate()\n",
    "glueContext = GlueContext(sc)\n",
    "spark = glueContext.spark_session\n",
    "job = Job(glueContext)\n",
    "\n",
    "# Parâmetros do Job\n",
    "args = getResolvedOptions(sys.argv, ['JOB_NAME'])\n",
    "job.init(args['JOB_NAME'], args)"
   ]
  },
  {
   "cell_type": "code",
   "execution_count": null,
   "metadata": {},
   "outputs": [],
   "source": [
    "#  Import da base\n",
    "from pyspark.sql.functions import col\n",
    "\n",
    "# Pega a base completa antes de semana_passada\n",
    "select = f\"\"\"\n",
    "SELECT \n",
    "    *\n",
    "FROM NOME_TABELA\n",
    "\"\"\"\n",
    "# ESSA FUNÇÃO NÃO PRECISA SER ALTERADA, serve para puxar dados do catalogo de dados do athena\n",
    "df_base = wr.athena.read_sql_query(\n",
    "    select\n",
    "    ,database='workspace_db'\n",
    "    ,ctas_approach=False\n",
    "    ,workgroup='workgroup'\n",
    ")\n",
    "df_spark = spark.createDataframe(df_base)\n",
    "df_spark.show()"
   ]
  },
  {
   "cell_type": "code",
   "execution_count": null,
   "metadata": {},
   "outputs": [],
   "source": [
    "#  1. Transformação de dados\n",
    "df = df_spark.withColumn('nome_coluna', col('nome_coluna').cast('int') )\n",
    "\n",
    "def calculaAprovacao(rating):\n",
    "    if (rating == 'A1'):\n",
    "        return 1\n",
    "    else:\n",
    "        return 0\n",
    "# Coloca a função que usaremos e sua saida \n",
    "udf_preparado = udf(calculaAprovacao, IntegerType())\n",
    "# Aplica a transformação de dados que queremos, alicando o resultado na coluna fl\n",
    "df = df.withColumn('fl', udf_preparado( col('RATING') ) )"
   ]
  }
 ],
 "metadata": {
  "language_info": {
   "name": "python"
  }
 },
 "nbformat": 4,
 "nbformat_minor": 2
}
