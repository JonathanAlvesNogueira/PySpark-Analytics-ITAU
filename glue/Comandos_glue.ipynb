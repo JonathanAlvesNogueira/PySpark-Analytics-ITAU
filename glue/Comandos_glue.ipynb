{
 "cells": [
  {
   "cell_type": "markdown",
   "metadata": {},
   "source": [
    "## Imports necessários Glue Studio"
   ]
  },
  {
   "cell_type": "code",
   "execution_count": null,
   "metadata": {},
   "outputs": [],
   "source": [
    "import sys\n",
    "from awsglue.transforms import *\n",
    "from awsglue.utils import getResolvedOptions\n",
    "from pyspark.context import SparkContext\n",
    "from awsglue.context import GlueContext\n",
    "from awsglue.job import Job"
   ]
  },
  {
   "cell_type": "markdown",
   "metadata": {},
   "source": [
    "# Comandos de configuração do GLUE"
   ]
  },
  {
   "cell_type": "code",
   "execution_count": null,
   "metadata": {},
   "outputs": [],
   "source": [
    "# Comandos de configuração Glue-Spark\n",
    "args = getResolvedOptions(sys.argv, ['JOB_NAME'])\n",
    "sc = SparkContext()\n",
    "glueContext = GlueContext(sc)\n",
    "spark = glueContext.spark_session\n",
    "job = Job(glueContext)\n",
    "job.init(args['JOB_NAME'], args)"
   ]
  },
  {
   "cell_type": "markdown",
   "metadata": {},
   "source": [
    "# Carrega a base do catalogo de dados ou do s3 para o Glue"
   ]
  },
  {
   "cell_type": "code",
   "execution_count": null,
   "metadata": {},
   "outputs": [],
   "source": [
    "# Carrega uma base de um catalogo de dados\n",
    "base1 = glueContext.create_dynamic_frame.from_catalog(database = \"my_database\", table_name = \"my_table\", transformation_ctx = \"datasource0\")\n",
    "\n",
    "# Carrega a base de um S3\n",
    "base2 = glueContext.create_dynamic_frame.from_options(\"s3\", {'paths': [\"s3://my-bucket/my-file\"]}, format=\"csv\", transformation_ctx = \"datasource0\", format_options={'withHeader':True})"
   ]
  },
  {
   "cell_type": "markdown",
   "metadata": {},
   "source": [
    "# Salvar arquivo no S3 e catalago de dados"
   ]
  },
  {
   "cell_type": "code",
   "execution_count": null,
   "metadata": {},
   "outputs": [],
   "source": [
    "# A função getSink do GlueContext no AWS Glue é usada para configurar um conector que escreve os dados transformados para um destino específico.\n",
    "\n",
    "write_s3_parquet = glueContext.getSink(\n",
    "    path='s3://meu_caminho_s3'\n",
    "    ,connection_type='S3'\n",
    "    ,updateBehavior='UPDATE_IN_DATABASE'\n",
    "    ,partitionKeys=['coluna_particao']\n",
    "    ,compression='snappy'\n",
    "    ,enableUpdateCatalog=True\n",
    "    ,transformation_ctx='Write_S3_parquet'\n",
    ")\n",
    "\n",
    "write_s3_parquet.setCatalog(catalogDatabase='teste_database', catalogTableName='nomeTabela')\n",
    "\n",
    "write_s3_parquet.setFormat('glueparquet')\n",
    "write_s3_parquet.writeFrame(dataframe)"
   ]
  },
  {
   "cell_type": "markdown",
   "metadata": {},
   "source": [
    "# Jeito mais simples - Esse método, eu ainda não testei"
   ]
  },
  {
   "cell_type": "code",
   "execution_count": null,
   "metadata": {},
   "outputs": [],
   "source": [
    "# Salva a base no catalogo de dados\n",
    "glueContext.write_dynamic_frame.from_catalog(frame = transformed_frame, database = \"my_database\", table_name = \"my_table\", transformation_ctx = \"datasink\")\n",
    "\n",
    "# Salva a base no S3\n",
    "glueContext.write_dynamic_frame.from_options(frame = transformed_frame, connection_type = \"s3\", connection_options = {\"path\": \"s3://my-bucket/output/\"}, format = \"json\", transformation_ctx = \"datasink\")"
   ]
  },
  {
   "cell_type": "code",
   "execution_count": null,
   "metadata": {},
   "outputs": [],
   "source": [
    "# Finaliza o Glue-code\n",
    "job.commit()"
   ]
  }
 ],
 "metadata": {
  "kernelspec": {
   "display_name": "Python 3",
   "language": "python",
   "name": "python3"
  },
  "language_info": {
   "codemirror_mode": {
    "name": "ipython",
    "version": 3
   },
   "file_extension": ".py",
   "mimetype": "text/x-python",
   "name": "python",
   "nbconvert_exporter": "python",
   "pygments_lexer": "ipython3",
   "version": "3.12.0"
  }
 },
 "nbformat": 4,
 "nbformat_minor": 2
}
