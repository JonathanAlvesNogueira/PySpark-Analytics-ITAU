{
 "cells": [
  {
   "cell_type": "code",
   "execution_count": null,
   "metadata": {},
   "outputs": [],
   "source": [
    "from pyspark.sql import SparkSession\n",
    "from pyspark.sql.functions import from_json, col\n",
    "from pyspark.sql.types import StringType, StructType, StructField, IntegerType\n",
    "\n",
    "# Criar uma sessão do Spark\n",
    "spark = SparkSession.builder.appName(\"JSON Column Example\").getOrCreate()\n",
    "\n",
    "# Criar um DataFrame de exemplo com JSONs como strings\n",
    "data = [\n",
    "    ('{\"name\": \"Alice\", \"age\": 25, \"city\": \"New York\"}',),\n",
    "    ('{\"name\": \"Bob\", \"age\": 30, \"city\": \"San Francisco\"}',),\n",
    "    ('{\"name\": \"Cathy\", \"age\": 22, \"city\": \"Chicago\"}',)\n",
    "]\n",
    "columns = [\"json_str\"]\n",
    "df = spark.createDataFrame(data, columns)\n",
    "\n",
    "# Mostrar o DataFrame original\n",
    "df.show(truncate=False)\n",
    "\n",
    "# Definir o schema do JSON\n",
    "json_schema = StructType([\n",
    "    StructField(\"name\", StringType(), True),\n",
    "    StructField(\"age\", IntegerType(), True),\n",
    "    StructField(\"city\", StringType(), True)\n",
    "])\n",
    "\n",
    "# Converter a coluna JSON string para colunas separadas\n",
    "df_with_json = df.withColumn(\"json_data\", from_json(col(\"json_str\"), json_schema)).select(\"json_data.*\")"
   ]
  },
  {
   "cell_type": "code",
   "execution_count": null,
   "metadata": {},
   "outputs": [],
   "source": [
    "display(df_with_json)"
   ]
  }
 ],
 "metadata": {
  "language_info": {
   "name": "python"
  }
 },
 "nbformat": 4,
 "nbformat_minor": 2
}
