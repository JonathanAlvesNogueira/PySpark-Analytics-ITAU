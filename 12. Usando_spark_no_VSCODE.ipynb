{
 "cells": [
  {
   "cell_type": "code",
   "execution_count": 1,
   "id": "00a810a2-0a6b-4401-a780-1e6b97ca80c1",
   "metadata": {},
   "outputs": [
    {
     "data": {
      "text/plain": [
       "'sucesso'"
      ]
     },
     "metadata": {},
     "output_type": "display_data"
    }
   ],
   "source": [
    "from pyspark.sql import SparkSession\n",
    "from pyspark.sql.types import StructType, StructField, IntegerType, StringType\n",
    "import pyspark.sql.functions as func\n",
    "display('sucesso')"
   ]
  },
  {
   "cell_type": "code",
   "execution_count": 2,
   "id": "9b897ef4-5bef-4630-a416-d4d6478c9bd7",
   "metadata": {},
   "outputs": [
    {
     "name": "stdout",
     "output_type": "stream",
     "text": [
      "Requirement already satisfied: pyspark in c:\\users\\joth1\\appdata\\local\\programs\\python\\python312\\lib\\site-packages (3.5.0)\n",
      "Requirement already satisfied: py4j==0.10.9.7 in c:\\users\\joth1\\appdata\\local\\programs\\python\\python312\\lib\\site-packages (from pyspark) (0.10.9.7)\n",
      "Note: you may need to restart the kernel to use updated packages.\n"
     ]
    },
    {
     "name": "stderr",
     "output_type": "stream",
     "text": [
      "\n",
      "[notice] A new release of pip is available: 23.2.1 -> 24.0\n",
      "[notice] To update, run: python.exe -m pip install --upgrade pip\n"
     ]
    }
   ],
   "source": [
    "import findspark\n",
    "findspark.init()\n",
    "\n",
    "%pip install pyspark\n",
    "from pyspark.sql import SparkSession\n",
    "\n",
    "# Cria uma sessão do Spark\n",
    "spark = SparkSession.builder \\\n",
    "    .master('local'). \\\n",
    "        appName(\"example\") \\\n",
    "            .getOrCreate()"
   ]
  },
  {
   "cell_type": "code",
   "execution_count": 3,
   "id": "20f26384-85f5-4d77-8440-6aaddf4e3aba",
   "metadata": {},
   "outputs": [
    {
     "data": {
      "text/plain": [
       "'sucesso'"
      ]
     },
     "metadata": {},
     "output_type": "display_data"
    }
   ],
   "source": [
    "#Defining schema for your DataFrame\n",
    "myschema = StructType([\n",
    "                       StructField(\"userID\", IntegerType(), True),\n",
    "                       StructField(\"name\", StringType(), True),\n",
    "                       StructField(\"age\",IntegerType(), True),\n",
    "                       StructField(\"friends\",IntegerType(), True),\n",
    "                        ])\n",
    "display('sucesso')"
   ]
  },
  {
   "cell_type": "code",
   "execution_count": 10,
   "id": "6c1f9c0a-b10c-45eb-92d3-fb84351bdba5",
   "metadata": {},
   "outputs": [
    {
     "data": {
      "text/plain": [
       "'sucesso'"
      ]
     },
     "metadata": {},
     "output_type": "display_data"
    },
    {
     "name": "stdout",
     "output_type": "stream",
     "text": [
      "+---+--------+---+---+\n",
      "|_c0|     _c1|_c2|_c3|\n",
      "+---+--------+---+---+\n",
      "|  0|    Will| 33|385|\n",
      "|  1|Jean-Luc| 26|  2|\n",
      "|  2|    Hugh| 55|221|\n",
      "|  3|  Deanna| 40|465|\n",
      "|  4|   Quark| 68| 21|\n",
      "|  5|  Weyoun| 59|318|\n",
      "|  6|  Gowron| 37|220|\n",
      "|  7|    Will| 54|307|\n",
      "|  8|  Jadzia| 38|380|\n",
      "|  9|    Hugh| 27|181|\n",
      "| 10|     Odo| 53|191|\n",
      "| 11|     Ben| 57|372|\n",
      "| 12|   Keiko| 54|253|\n",
      "| 13|Jean-Luc| 56|444|\n",
      "| 14|    Hugh| 43| 49|\n",
      "| 15|     Rom| 36| 49|\n",
      "| 16|  Weyoun| 22|323|\n",
      "| 17|     Odo| 35| 13|\n",
      "| 18|Jean-Luc| 45|455|\n",
      "| 19|  Geordi| 60|246|\n",
      "+---+--------+---+---+\n",
      "only showing top 20 rows\n",
      "\n"
     ]
    }
   ],
   "source": [
    "#Creating DataFrame on a CSV file\n",
    "people = spark.read.load('D:/donwloads/fakefriends.csv', header=False, inferSchema=True, format='csv', sep=',')\n",
    "display('sucesso')\n",
    "people.show()"
   ]
  },
  {
   "cell_type": "code",
   "execution_count": 5,
   "id": "482b1c08-af2b-4c40-997e-13ce00a9b547",
   "metadata": {},
   "outputs": [
    {
     "data": {
      "text/plain": [
       "'sucesso'"
      ]
     },
     "metadata": {},
     "output_type": "display_data"
    }
   ],
   "source": [
    "#taking the count of o/p DataFrame\n",
    "people.count()\n",
    "display('sucesso')"
   ]
  },
  {
   "cell_type": "code",
   "execution_count": 9,
   "id": "fefe05f2-efd7-4a18-ab13-b0b8895ce2c0",
   "metadata": {},
   "outputs": [
    {
     "name": "stdout",
     "output_type": "stream",
     "text": [
      "+---+--------+---+---+\n",
      "|_c0|     _c1|_c2|_c3|\n",
      "+---+--------+---+---+\n",
      "|  0|    Will| 33|385|\n",
      "|  1|Jean-Luc| 26|  2|\n",
      "|  2|    Hugh| 55|221|\n",
      "|  3|  Deanna| 40|465|\n",
      "|  4|   Quark| 68| 21|\n",
      "|  5|  Weyoun| 59|318|\n",
      "|  6|  Gowron| 37|220|\n",
      "|  7|    Will| 54|307|\n",
      "|  8|  Jadzia| 38|380|\n",
      "|  9|    Hugh| 27|181|\n",
      "| 10|     Odo| 53|191|\n",
      "| 11|     Ben| 57|372|\n",
      "| 12|   Keiko| 54|253|\n",
      "| 13|Jean-Luc| 56|444|\n",
      "| 14|    Hugh| 43| 49|\n",
      "| 15|     Rom| 36| 49|\n",
      "| 16|  Weyoun| 22|323|\n",
      "| 17|     Odo| 35| 13|\n",
      "| 18|Jean-Luc| 45|455|\n",
      "| 19|  Geordi| 60|246|\n",
      "+---+--------+---+---+\n",
      "only showing top 20 rows\n",
      "\n"
     ]
    }
   ],
   "source": [
    "#Creating a Temp View\n",
    "people.createOrReplaceTempView(\"peoples\")\n",
    "#Running a simple Spark SQL query\n",
    "spark.sql(\"select * from peoples\").show()"
   ]
  },
  {
   "cell_type": "code",
   "execution_count": 7,
   "id": "3cfca18c-6317-4399-ae14-65bf7f28732b",
   "metadata": {},
   "outputs": [
    {
     "name": "stdout",
     "output_type": "stream",
     "text": [
      "+---+--------+---+---+\n",
      "|_c0|     _c1|_c2|_c3|\n",
      "+---+--------+---+---+\n",
      "|  0|    Will| 33|385|\n",
      "|  1|Jean-Luc| 26|  2|\n",
      "|  2|    Hugh| 55|221|\n",
      "|  3|  Deanna| 40|465|\n",
      "|  4|   Quark| 68| 21|\n",
      "|  5|  Weyoun| 59|318|\n",
      "|  6|  Gowron| 37|220|\n",
      "|  7|    Will| 54|307|\n",
      "|  8|  Jadzia| 38|380|\n",
      "|  9|    Hugh| 27|181|\n",
      "| 10|     Odo| 53|191|\n",
      "| 11|     Ben| 57|372|\n",
      "| 12|   Keiko| 54|253|\n",
      "| 13|Jean-Luc| 56|444|\n",
      "| 14|    Hugh| 43| 49|\n",
      "| 15|     Rom| 36| 49|\n",
      "| 16|  Weyoun| 22|323|\n",
      "| 17|     Odo| 35| 13|\n",
      "| 18|Jean-Luc| 45|455|\n",
      "| 19|  Geordi| 60|246|\n",
      "+---+--------+---+---+\n",
      "only showing top 20 rows\n",
      "\n"
     ]
    }
   ],
   "source": [
    "people.show()"
   ]
  },
  {
   "cell_type": "code",
   "execution_count": null,
   "id": "dcfb1663-3a93-42bb-b87e-bd09ab1aaf84",
   "metadata": {},
   "outputs": [],
   "source": []
  },
  {
   "cell_type": "code",
   "execution_count": 16,
   "id": "ddcc9700-6998-4b66-b8cb-901a3e9af6db",
   "metadata": {},
   "outputs": [
    {
     "name": "stdout",
     "output_type": "stream",
     "text": [
      "Requirement already satisfied: pyspark in c:\\users\\joth1\\anaconda3\\lib\\site-packages (3.5.1)Note: you may need to restart the kernel to use updated packages.\n",
      "\n",
      "Requirement already satisfied: py4j==0.10.9.7 in c:\\users\\joth1\\anaconda3\\lib\\site-packages (from pyspark) (0.10.9.7)\n",
      "root\n",
      " |-- Name: string (nullable = true)\n",
      " |-- Age: long (nullable = true)\n",
      "\n"
     ]
    },
    {
     "data": {
      "text/plain": [
       "None"
      ]
     },
     "metadata": {},
     "output_type": "display_data"
    }
   ],
   "source": [
    "\n",
    "\n",
    "# Exemplo de criação de um DataFrame\n",
    "data = [(\"Alice\", 34), (\"Bob\", 45), (\"Cathy\", 29)]\n",
    "columns = [\"Name\", \"Age\"]\n",
    "\n",
    "df = spark.createDataFrame(data, columns)\n",
    "display(df.printSchema())"
   ]
  }
 ],
 "metadata": {
  "kernelspec": {
   "display_name": "Python 3 (ipykernel)",
   "language": "python",
   "name": "python3"
  },
  "language_info": {
   "codemirror_mode": {
    "name": "ipython",
    "version": 3
   },
   "file_extension": ".py",
   "mimetype": "text/x-python",
   "name": "python",
   "nbconvert_exporter": "python",
   "pygments_lexer": "ipython3",
   "version": "3.12.0"
  }
 },
 "nbformat": 4,
 "nbformat_minor": 5
}
